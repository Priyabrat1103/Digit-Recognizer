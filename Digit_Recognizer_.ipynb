{
  "nbformat": 4,
  "nbformat_minor": 0,
  "metadata": {
    "colab": {
      "name": "Digit Recognizer .ipynb",
      "provenance": [],
      "authorship_tag": "ABX9TyPsdmmhE4XZyV1DyzB2mVny",
      "include_colab_link": true
    },
    "kernelspec": {
      "name": "python3",
      "display_name": "Python 3"
    },
    "language_info": {
      "name": "python"
    }
  },
  "cells": [
    {
      "cell_type": "markdown",
      "metadata": {
        "id": "view-in-github",
        "colab_type": "text"
      },
      "source": [
        "<a href=\"https://colab.research.google.com/github/Priyabrat1103/Digit-Recognizer/blob/main/Digit_Recognizer_.ipynb\" target=\"_parent\"><img src=\"https://colab.research.google.com/assets/colab-badge.svg\" alt=\"Open In Colab\"/></a>"
      ]
    },
    {
      "cell_type": "code",
      "metadata": {
        "id": "ZnHdA_BsgPvP"
      },
      "source": [
        "from tensorflow import keras"
      ],
      "execution_count": null,
      "outputs": []
    },
    {
      "cell_type": "code",
      "metadata": {
        "id": "HzVztXU8gS7u",
        "colab": {
          "base_uri": "https://localhost:8080/"
        },
        "outputId": "fa20fe95-44a3-4b77-8c8d-da733120699a"
      },
      "source": [
        "(x_train, y_train), (x_test, y_test) =keras.datasets.mnist.load_data()"
      ],
      "execution_count": null,
      "outputs": [
        {
          "output_type": "stream",
          "text": [
            "Downloading data from https://storage.googleapis.com/tensorflow/tf-keras-datasets/mnist.npz\n",
            "11493376/11490434 [==============================] - 0s 0us/step\n"
          ],
          "name": "stdout"
        }
      ]
    },
    {
      "cell_type": "code",
      "metadata": {
        "colab": {
          "base_uri": "https://localhost:8080/"
        },
        "id": "7FJmbgBHgV-b",
        "outputId": "4086e05f-0174-4646-c501-6db7c8280dca"
      },
      "source": [
        "# Training and testing shape of Input Data\n",
        "print(x_train.shape)\n",
        "print(x_test.shape)"
      ],
      "execution_count": null,
      "outputs": [
        {
          "output_type": "stream",
          "text": [
            "(60000, 28, 28)\n",
            "(10000, 28, 28)\n"
          ],
          "name": "stdout"
        }
      ]
    },
    {
      "cell_type": "code",
      "metadata": {
        "colab": {
          "base_uri": "https://localhost:8080/"
        },
        "id": "kBSRuh79gWFz",
        "outputId": "bb927acf-1366-4060-d4ed-c84a1f2f7f96"
      },
      "source": [
        "# Training and testing shape of Output Data\n",
        "print(y_train.shape)\n",
        "print(y_test.shape)"
      ],
      "execution_count": null,
      "outputs": [
        {
          "output_type": "stream",
          "text": [
            "(60000,)\n",
            "(10000,)\n"
          ],
          "name": "stdout"
        }
      ]
    },
    {
      "cell_type": "code",
      "metadata": {
        "colab": {
          "base_uri": "https://localhost:8080/"
        },
        "id": "WWjStcb0gWbM",
        "outputId": "8b3e8416-f4fd-4471-c8ca-60c7897480b7"
      },
      "source": [
        "# Training Images Count\n",
        "import numpy as np\n",
        "np.unique(y_train,return_counts=True)"
      ],
      "execution_count": null,
      "outputs": [
        {
          "output_type": "execute_result",
          "data": {
            "text/plain": [
              "(array([0, 1, 2, 3, 4, 5, 6, 7, 8, 9], dtype=uint8),\n",
              " array([5923, 6742, 5958, 6131, 5842, 5421, 5918, 6265, 5851, 5949]))"
            ]
          },
          "metadata": {
            "tags": []
          },
          "execution_count": 5
        }
      ]
    },
    {
      "cell_type": "code",
      "metadata": {
        "colab": {
          "base_uri": "https://localhost:8080/"
        },
        "id": "QHQxfrLxgWiB",
        "outputId": "0da5c2c3-9c38-4bc2-99ca-582c31932885"
      },
      "source": [
        "#Testing Image Count\n",
        "np.unique(y_test,return_counts=True)"
      ],
      "execution_count": null,
      "outputs": [
        {
          "output_type": "execute_result",
          "data": {
            "text/plain": [
              "(array([0, 1, 2, 3, 4, 5, 6, 7, 8, 9], dtype=uint8),\n",
              " array([ 980, 1135, 1032, 1010,  982,  892,  958, 1028,  974, 1009]))"
            ]
          },
          "metadata": {
            "tags": []
          },
          "execution_count": 6
        }
      ]
    },
    {
      "cell_type": "code",
      "metadata": {
        "colab": {
          "base_uri": "https://localhost:8080/"
        },
        "id": "pQSvH9p_gWpc",
        "outputId": "73fd352c-ec43-4863-c994-e83e80cea4ea"
      },
      "source": [
        "# Before Normalization\n",
        "print(x_train[0].max())\n",
        "print(x_train[0].min())"
      ],
      "execution_count": null,
      "outputs": [
        {
          "output_type": "stream",
          "text": [
            "255\n",
            "0\n"
          ],
          "name": "stdout"
        }
      ]
    },
    {
      "cell_type": "code",
      "metadata": {
        "id": "EyJjhJp_wjsY"
      },
      "source": [
        "# Normalize : Scaling the value from 0 to 1\n",
        "x_train = x_train/255\n",
        "x_test = x_test/255"
      ],
      "execution_count": null,
      "outputs": []
    },
    {
      "cell_type": "code",
      "metadata": {
        "id": "E_YBVAhYgWwR",
        "colab": {
          "base_uri": "https://localhost:8080/"
        },
        "outputId": "cc586fb0-b6e1-4e47-c20d-8e7b66e12b72"
      },
      "source": [
        "# After Normalization\n",
        "print(x_train[0].max())\n",
        "print(x_train[0].min())"
      ],
      "execution_count": null,
      "outputs": [
        {
          "output_type": "stream",
          "text": [
            "1.0\n",
            "0.0\n"
          ],
          "name": "stdout"
        }
      ]
    },
    {
      "cell_type": "markdown",
      "metadata": {
        "id": "gzouxhEgleny"
      },
      "source": [
        " NUERAL NETWORK ARCHITECTURE"
      ]
    },
    {
      "cell_type": "code",
      "metadata": {
        "id": "96g7aDEqwxbY"
      },
      "source": [
        "from keras.layers import Dense\n",
        "from keras.layers import Flatten\n",
        "model = keras.Sequential()\n",
        "model.add(Flatten(input_shape=(28,28)))\n",
        "model.add(Dense(392,activation ='relu'))\n",
        "model.add(Dense(10,activation='softmax'))"
      ],
      "execution_count": null,
      "outputs": []
    },
    {
      "cell_type": "markdown",
      "metadata": {
        "id": "lkjNJR4Xl4T-"
      },
      "source": [
        "COMPILATION\n"
      ]
    },
    {
      "cell_type": "code",
      "metadata": {
        "id": "UyGIxeGzwxme"
      },
      "source": [
        "model.compile(loss='sparse_categorical_crossentropy',optimizer='adam',metrics=['accuracy'])\n",
        "#model.summary()"
      ],
      "execution_count": null,
      "outputs": []
    },
    {
      "cell_type": "code",
      "metadata": {
        "colab": {
          "base_uri": "https://localhost:8080/"
        },
        "id": "Q8oEUjX-wxyP",
        "outputId": "3978eee3-1669-4888-93fa-a035fae496ae"
      },
      "source": [
        "#Early Stopping Callback\n",
        "\n",
        "from keras.callbacks import EarlyStopping\n",
        "early_stop = EarlyStopping(mode='min', verbose=1, patience=5)\n",
        "history = model.fit(x_train,y_train,epochs=15,validation_split=0.1)"
      ],
      "execution_count": null,
      "outputs": [
        {
          "output_type": "stream",
          "text": [
            "Epoch 1/15\n",
            "1688/1688 [==============================] - 8s 4ms/step - loss: 0.3772 - accuracy: 0.8910 - val_loss: 0.0969 - val_accuracy: 0.9723\n",
            "Epoch 2/15\n",
            "1688/1688 [==============================] - 7s 4ms/step - loss: 0.0920 - accuracy: 0.9716 - val_loss: 0.0850 - val_accuracy: 0.9743\n",
            "Epoch 3/15\n",
            "1688/1688 [==============================] - 7s 4ms/step - loss: 0.0562 - accuracy: 0.9827 - val_loss: 0.0684 - val_accuracy: 0.9798\n",
            "Epoch 4/15\n",
            "1688/1688 [==============================] - 6s 4ms/step - loss: 0.0379 - accuracy: 0.9894 - val_loss: 0.0797 - val_accuracy: 0.9777\n",
            "Epoch 5/15\n",
            "1688/1688 [==============================] - 6s 4ms/step - loss: 0.0303 - accuracy: 0.9911 - val_loss: 0.0711 - val_accuracy: 0.9815\n",
            "Epoch 6/15\n",
            "1688/1688 [==============================] - 7s 4ms/step - loss: 0.0185 - accuracy: 0.9943 - val_loss: 0.0714 - val_accuracy: 0.9807\n",
            "Epoch 7/15\n",
            "1688/1688 [==============================] - 6s 4ms/step - loss: 0.0187 - accuracy: 0.9938 - val_loss: 0.0748 - val_accuracy: 0.9810\n",
            "Epoch 8/15\n",
            "1688/1688 [==============================] - 7s 4ms/step - loss: 0.0124 - accuracy: 0.9959 - val_loss: 0.0732 - val_accuracy: 0.9825\n",
            "Epoch 9/15\n",
            "1688/1688 [==============================] - 7s 4ms/step - loss: 0.0101 - accuracy: 0.9969 - val_loss: 0.0774 - val_accuracy: 0.9835\n",
            "Epoch 10/15\n",
            "1688/1688 [==============================] - 7s 4ms/step - loss: 0.0092 - accuracy: 0.9973 - val_loss: 0.0946 - val_accuracy: 0.9790\n",
            "Epoch 11/15\n",
            "1688/1688 [==============================] - 7s 4ms/step - loss: 0.0094 - accuracy: 0.9971 - val_loss: 0.0802 - val_accuracy: 0.9835\n",
            "Epoch 12/15\n",
            "1688/1688 [==============================] - 6s 4ms/step - loss: 0.0054 - accuracy: 0.9985 - val_loss: 0.1031 - val_accuracy: 0.9810\n",
            "Epoch 13/15\n",
            "1688/1688 [==============================] - 7s 4ms/step - loss: 0.0070 - accuracy: 0.9975 - val_loss: 0.0875 - val_accuracy: 0.9837\n",
            "Epoch 14/15\n",
            "1688/1688 [==============================] - 7s 4ms/step - loss: 0.0059 - accuracy: 0.9980 - val_loss: 0.1269 - val_accuracy: 0.9782\n",
            "Epoch 15/15\n",
            "1688/1688 [==============================] - 7s 4ms/step - loss: 0.0082 - accuracy: 0.9972 - val_loss: 0.0951 - val_accuracy: 0.9820\n"
          ],
          "name": "stdout"
        }
      ]
    },
    {
      "cell_type": "code",
      "metadata": {
        "colab": {
          "base_uri": "https://localhost:8080/",
          "height": 282
        },
        "id": "NOrQ2bOxwx7p",
        "outputId": "7d80e892-3f87-4d11-d730-ec6cd9551511"
      },
      "source": [
        "import matplotlib.pyplot as plt\n",
        "plt.plot(history.history['loss'])\n",
        "plt.plot(history.history['val_loss'])"
      ],
      "execution_count": null,
      "outputs": [
        {
          "output_type": "execute_result",
          "data": {
            "text/plain": [
              "[<matplotlib.lines.Line2D at 0x7f020efec2d0>]"
            ]
          },
          "metadata": {
            "tags": []
          },
          "execution_count": 13
        },
        {
          "output_type": "display_data",
          "data": {
            "image/png": "[encoded data removed]",
            "text/plain": [
              "<Figure size 432x288 with 1 Axes>"
            ]
          },
          "metadata": {
            "tags": [],
            "needs_background": "light"
          }
        }
      ]
    },
    {
      "cell_type": "code",
      "metadata": {
        "colab": {
          "base_uri": "https://localhost:8080/"
        },
        "id": "6KInDDsz0cxR",
        "outputId": "0b4edec1-97cb-4cdb-de58-aac385062e20"
      },
      "source": [
        "# Evaluation of test data\n",
        "\n",
        "import numpy as np\n",
        "\n",
        "y_pred = model.predict(x_test)# Output will be in the form of probabilities\n",
        "y_pred = np.argmax(y_pred,axis=1)\n",
        "y_pred"
      ],
      "execution_count": null,
      "outputs": [
        {
          "output_type": "execute_result",
          "data": {
            "text/plain": [
              "array([7, 2, 1, ..., 4, 5, 6])"
            ]
          },
          "metadata": {
            "tags": []
          },
          "execution_count": 14
        }
      ]
    },
    {
      "cell_type": "code",
      "metadata": {
        "colab": {
          "base_uri": "https://localhost:8080/"
        },
        "id": "Xcqb0Naf0c97",
        "outputId": "e6f14e61-ad67-4f69-bb8b-0901fb941cc9"
      },
      "source": [
        "a = np.array([11,44,66,77,33])\n",
        "max_a = np.argmin(a)\n",
        "max_a"
      ],
      "execution_count": null,
      "outputs": [
        {
          "output_type": "execute_result",
          "data": {
            "text/plain": [
              "0"
            ]
          },
          "metadata": {
            "tags": []
          },
          "execution_count": 15
        }
      ]
    },
    {
      "cell_type": "code",
      "metadata": {
        "colab": {
          "base_uri": "https://localhost:8080/"
        },
        "id": "1AWwtb5_0dKO",
        "outputId": "57a281d1-2545-4c9c-d5f7-9711ef5cca1e"
      },
      "source": [
        "from sklearn.metrics import accuracy_score,confusion_matrix\n",
        "confusion_matrix(y_pred,y_test)"
      ],
      "execution_count": null,
      "outputs": [
        {
          "output_type": "execute_result",
          "data": {
            "text/plain": [
              "array([[ 972,    0,    3,    0,    3,    2,    5,    1,    1,    4],\n",
              "       [   1, 1125,    1,    0,    0,    0,    3,    2,    0,    2],\n",
              "       [   0,    2, 1012,    2,    3,    0,    0,    9,    2,    0],\n",
              "       [   0,    1,    5, 1000,    0,   11,    1,    3,    8,    9],\n",
              "       [   0,    0,    2,    0,  954,    1,    2,    0,    0,    5],\n",
              "       [   1,    1,    0,    3,    1,  872,    6,    0,    4,    2],\n",
              "       [   2,    2,    2,    0,    5,    3,  939,    0,    0,    0],\n",
              "       [   1,    1,    3,    2,    3,    0,    0, 1008,    3,    4],\n",
              "       [   2,    3,    3,    3,    3,    3,    2,    2,  952,    1],\n",
              "       [   1,    0,    1,    0,   10,    0,    0,    3,    4,  982]])"
            ]
          },
          "metadata": {
            "tags": []
          },
          "execution_count": 16
        }
      ]
    },
    {
      "cell_type": "code",
      "metadata": {
        "colab": {
          "base_uri": "https://localhost:8080/"
        },
        "id": "CjgJjBbp0p1Y",
        "outputId": "1078c8ca-6e0d-4cdf-aced-c7f8ca3dba4a"
      },
      "source": [
        "accuracy_score(y_pred,y_test)*100"
      ],
      "execution_count": null,
      "outputs": [
        {
          "output_type": "execute_result",
          "data": {
            "text/plain": [
              "98.16"
            ]
          },
          "metadata": {
            "tags": []
          },
          "execution_count": 17
        }
      ]
    },
    {
      "cell_type": "code",
      "metadata": {
        "id": "_Zzaxz470qEr"
      },
      "source": [
        "model.save(\"digit_recognizer.hdf5\")"
      ],
      "execution_count": null,
      "outputs": []
    }
  ]
}