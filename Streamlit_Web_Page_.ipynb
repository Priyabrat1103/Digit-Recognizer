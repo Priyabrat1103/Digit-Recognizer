{
  "nbformat": 4,
  "nbformat_minor": 0,
  "metadata": {
    "colab": {
      "name": "Streamlit Web Page .ipynb",
      "provenance": [],
      "authorship_tag": "ABX9TyNs+g6sqXFmp2NIHyC3Idb6",
      "include_colab_link": true
    },
    "kernelspec": {
      "name": "python3",
      "display_name": "Python 3"
    },
    "language_info": {
      "name": "python"
    }
  },
  "cells": [
    {
      "cell_type": "markdown",
      "metadata": {
        "id": "view-in-github",
        "colab_type": "text"
      },
      "source": [
        "<a href=\"https://colab.research.google.com/github/Priyabrat1103/Digit-Recognizer/blob/main/Streamlit_Web_Page_.ipynb\" target=\"_parent\"><img src=\"https://colab.research.google.com/assets/colab-badge.svg\" alt=\"Open In Colab\"/></a>"
      ]
    },
    {
      "cell_type": "code",
      "metadata": {
        "id": "d9GNUiuyIfNc",
        "colab": {
          "base_uri": "https://localhost:8080/"
        },
        "outputId": "12a57eaf-82b4-43a1-a989-a12c177e983a"
      },
      "source": [
        "!pip install streamlit --quiet\n",
        "!pip install pyngrok==4.1.1 --quiet\n",
        "!pip install streamlit-drawable-canvas --quiet\n",
        "from pyngrok import ngrok"
      ],
      "execution_count": null,
      "outputs": [
        {
          "output_type": "stream",
          "text": [
            "\u001b[K     |████████████████████████████████| 8.2MB 3.9MB/s \n",
            "\u001b[K     |████████████████████████████████| 112kB 33.1MB/s \n",
            "\u001b[K     |████████████████████████████████| 81kB 6.3MB/s \n",
            "\u001b[K     |████████████████████████████████| 4.2MB 30.7MB/s \n",
            "\u001b[K     |████████████████████████████████| 163kB 40.2MB/s \n",
            "\u001b[K     |████████████████████████████████| 122kB 47.1MB/s \n",
            "\u001b[K     |████████████████████████████████| 71kB 7.5MB/s \n",
            "\u001b[?25h  Building wheel for blinker (setup.py) ... \u001b[?25l\u001b[?25hdone\n",
            "\u001b[31mERROR: google-colab 1.0.0 has requirement ipykernel~=4.10, but you'll have ipykernel 5.5.3 which is incompatible.\u001b[0m\n",
            "  Building wheel for pyngrok (setup.py) ... \u001b[?25l\u001b[?25hdone\n",
            "\u001b[K     |████████████████████████████████| 1.3MB 4.4MB/s \n",
            "\u001b[?25h"
          ],
          "name": "stdout"
        }
      ]
    },
    {
      "cell_type": "code",
      "metadata": {
        "colab": {
          "base_uri": "https://localhost:8080/"
        },
        "id": "qlza_G_6IiWO",
        "outputId": "18fb65ae-a8b5-42a7-cab8-25abfe9436ba"
      },
      "source": [
        "%%writefile app.py\n",
        "import streamlit as st\n",
        "from streamlit_drawable_canvas import st_canvas\n",
        "from tensorflow import keras\n",
        "import numpy as np\n",
        "import cv2\n",
        "\n",
        "st.title('DIGIT RECOGNIZER')\n",
        "st.markdown(''' Write any digit between 0-9 ''')\n",
        "\n",
        "\n",
        "#Loading of Model \n",
        "model_new=keras.models.load_model('digit_recognizer.hdf5')\n",
        "\n",
        "# Create a canvas component\n",
        "canvas_result = st_canvas(fill_color='#000000', stroke_width=10, \n",
        "                          stroke_color='#0505f5', background_color='#ffffff', \n",
        "                          height=150, width=150,\n",
        "                          drawing_mode=\"freedraw\", key='canvas')\n",
        "\n",
        "if canvas_result.image_data is not None:\n",
        "    img = cv2.resize(canvas_result.image_data.astype('uint8'), (28, 28))\n",
        "    rescaled = cv2.resize(img, (150,150), interpolation=cv2.INTER_NEAREST)\n",
        "    st.image(rescaled)\n",
        "\n",
        "if st.button('PREDICT'): \n",
        "  x = cv2.cvtColor(img, cv2.COLOR_BGR2GRAY)\n",
        "  op = model_new.predict(x.reshape(1,28,28))\n",
        "  op = np.argmax(op)\n",
        "  st.title(f'Number is {op}')"
      ],
      "execution_count": null,
      "outputs": [
        {
          "output_type": "stream",
          "text": [
            "Writing app.py\n"
          ],
          "name": "stdout"
        }
      ]
    },
    {
      "cell_type": "code",
      "metadata": {
        "colab": {
          "base_uri": "https://localhost:8080/",
          "height": 52
        },
        "id": "Liiq0ULkIikm",
        "outputId": "da1a7acf-124c-478a-cd49-8a7bafd5e53b"
      },
      "source": [
        "!nohup streamlit run app.py &\n",
        "url = ngrok.connect(port='8501')\n",
        "url"
      ],
      "execution_count": null,
      "outputs": [
        {
          "output_type": "stream",
          "text": [
            "nohup: appending output to 'nohup.out'\n"
          ],
          "name": "stdout"
        },
        {
          "output_type": "execute_result",
          "data": {
            "application/vnd.google.colaboratory.intrinsic+json": {
              "type": "string"
            },
            "text/plain": [
              "'http://779dfe574318.ngrok.io'"
            ]
          },
          "metadata": {
            "tags": []
          },
          "execution_count": 3
        }
      ]
    },
    {
      "cell_type": "code",
      "metadata": {
        "id": "G6WxEJa6cukr"
      },
      "source": [
        ""
      ],
      "execution_count": null,
      "outputs": []
    }
  ]
}